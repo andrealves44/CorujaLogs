{
  "nbformat": 4,
  "nbformat_minor": 0,
  "metadata": {
    "colab": {
      "provenance": [],
      "include_colab_link": true
    },
    "kernelspec": {
      "name": "python3",
      "display_name": "Python 3"
    },
    "language_info": {
      "name": "python"
    }
  },
  "cells": [
    {
      "cell_type": "markdown",
      "metadata": {
        "id": "view-in-github",
        "colab_type": "text"
      },
      "source": [
        "<a href=\"https://colab.research.google.com/github/andrealves44/CorujaLogs/blob/main/API_3_02.ipynb\" target=\"_parent\"><img src=\"https://colab.research.google.com/assets/colab-badge.svg\" alt=\"Open In Colab\"/></a>"
      ]
    },
    {
      "cell_type": "code",
      "execution_count": null,
      "metadata": {
        "id": "UzveXLOj0WKG"
      },
      "outputs": [],
      "source": [
        "import pandas as pd\n",
        "import numpy as np"
      ]
    },
    {
      "cell_type": "code",
      "source": [
        "from google.colab import drive\n",
        "\n",
        "# Montar o Google Drive\n",
        "drive.mount('/content/drive')"
      ],
      "metadata": {
        "colab": {
          "base_uri": "https://localhost:8080/"
        },
        "id": "XslTVf1v0Zy9",
        "outputId": "053de5ef-6eea-4b1e-f821-b6d7622a7df8"
      },
      "execution_count": null,
      "outputs": [
        {
          "output_type": "stream",
          "name": "stdout",
          "text": [
            "Mounted at /content/drive\n"
          ]
        }
      ]
    },
    {
      "cell_type": "code",
      "source": [
        "# Verificar o conteúdo da pasta 'Data/API-3'\n",
        "import os\n",
        "\n",
        "# Caminho da pasta no Google Drive\n",
        "pasta_drive = '/content/drive/MyDrive/Data/API-3'\n",
        "\n",
        "if os.path.exists(pasta_drive):\n",
        "    arquivos = os.listdir(pasta_drive)\n",
        "    print(f\"{arquivos}\")\n",
        "else:\n",
        "    print(f\"Pasta não encontrada no Google Drive.\")"
      ],
      "metadata": {
        "colab": {
          "base_uri": "https://localhost:8080/"
        },
        "id": "CpI6Usmz0gfF",
        "outputId": "038f6cb9-989e-40f5-86c4-5acae05ead1e"
      },
      "execution_count": null,
      "outputs": [
        {
          "output_type": "stream",
          "name": "stdout",
          "text": [
            "['datatran2015.csv', 'datatran2016.csv', 'datatran2022.csv', 'datatran2023.csv', 'datatran2017.csv', 'datatran2018.csv', 'datatran2019.csv', 'datatran2020.csv', 'datatran2021.csv', 'datatran2024.csv', 'datatran2025.csv', 'data15_25.csv', 'data17_24.csv', 'data15_24.csv']\n"
          ]
        }
      ]
    },
    {
      "cell_type": "code",
      "source": [
        "arquivo_1 = '/content/drive/MyDrive/Data/API-3/data15_24.csv'"
      ],
      "metadata": {
        "id": "9lSGlgvt0tWs"
      },
      "execution_count": null,
      "outputs": []
    },
    {
      "cell_type": "code",
      "source": [
        "data15_24 = pd.read_csv(arquivo_1, sep=';', low_memory=False, encoding='utf-8')"
      ],
      "metadata": {
        "id": "uQX6RpwQ5qUb"
      },
      "execution_count": null,
      "outputs": []
    },
    {
      "cell_type": "code",
      "source": [
        "print(\"Valores vazios por coluna:\")\n",
        "print(data15_24.isnull().sum())"
      ],
      "metadata": {
        "colab": {
          "base_uri": "https://localhost:8080/"
        },
        "id": "0nhwelXh77pT",
        "outputId": "38ea7d13-b731-4a70-d4f0-18fb7710e3b1"
      },
      "execution_count": null,
      "outputs": [
        {
          "output_type": "stream",
          "name": "stdout",
          "text": [
            "Valores vazios por coluna:\n",
            "id                         0\n",
            "data_inversa               0\n",
            "dia_semana                 0\n",
            "horario                    0\n",
            "uf                         0\n",
            "br                         0\n",
            "km                         0\n",
            "municipio                  0\n",
            "causa_acidente             0\n",
            "tipo_acidente             41\n",
            "classificacao_acidente    10\n",
            "fase_dia                   1\n",
            "sentido_via                0\n",
            "condicao_metereologica     3\n",
            "tipo_pista                 0\n",
            "tracado_via                0\n",
            "uso_solo                   0\n",
            "pessoas                    0\n",
            "mortos                     0\n",
            "feridos_leves              0\n",
            "feridos_graves             0\n",
            "ilesos                     0\n",
            "ignorados                  0\n",
            "feridos                    0\n",
            "veiculos                   0\n",
            "latitude                   0\n",
            "longitude                  0\n",
            "regional                   0\n",
            "delegacia                  0\n",
            "uop                        0\n",
            "dtype: int64\n"
          ]
        }
      ]
    },
    {
      "cell_type": "code",
      "source": [
        "def ano_invalido(val):\n",
        "    if isinstance(val, str) and val[:4].isdigit():\n",
        "        return False  # formato válido\n",
        "    else:\n",
        "        return True   # formato inválido\n",
        "\n",
        "# filtrar linhas com formato inválido\n",
        "linhas_invalidas = data15_24[data15_24[\"data_inversa\"].apply(ano_invalido)]\n",
        "\n",
        "print(\"Linhas com 'data_inversa' em formato inválido:\")\n",
        "print(linhas_invalidas)"
      ],
      "metadata": {
        "colab": {
          "base_uri": "https://localhost:8080/"
        },
        "id": "fKu_Qw_x8Mgi",
        "outputId": "23813665-140a-4c8e-d9e9-a95352ebdbf1"
      },
      "execution_count": null,
      "outputs": [
        {
          "output_type": "stream",
          "name": "stdout",
          "text": [
            "Linhas com 'data_inversa' em formato inválido:\n",
            "                id data_inversa dia_semana   horario  uf   br     km  \\\n",
            "122161     36727.0     10/06/16      Sexta  18:30:00  RJ  101     66   \n",
            "122162  83425846.0     01/01/16      Sexta  01:30:00  SC  101  135,5   \n",
            "122163  83425850.0     01/01/16      Sexta  01:00:00  PR  277      2   \n",
            "122164  83425852.0     01/01/16      Sexta  01:45:00  PR  476    357   \n",
            "122165  83425853.0     01/01/16      Sexta  02:00:00  SE  101   94,2   \n",
            "...            ...          ...        ...       ...  ..  ...    ...   \n",
            "218519  83529876.0     10/11/16     Quinta  16:15:00  MT  163   1009   \n",
            "218520  83529878.0     01/01/16      Sexta  02:10:00  PE  428    186   \n",
            "218521  83529881.0     10/12/16     Sábado  06:30:00  MG  267   81,1   \n",
            "218522  83529886.0     28/12/16     Quarta  12:10:00  RJ  393    166   \n",
            "218523  83529889.0     04/12/16    Domingo  18:40:00  RJ   40     14   \n",
            "\n",
            "                       municipio               causa_acidente  \\\n",
            "122161     CAMPOS DOS GOYTACAZES                       Outras   \n",
            "122162        BALNEARIO CAMBORIU             Falta de atenção   \n",
            "122163                 PARANAGUA           Ingestão de álcool   \n",
            "122164          UNIAO DA VITORIA                       Outras   \n",
            "122165  NOSSA SENHORA DO SOCORRO             Falta de atenção   \n",
            "...                          ...                          ...   \n",
            "218519        PEIXOTO DE AZEVEDO             Falta de atenção   \n",
            "218520                 PETROLINA           Ingestão de álcool   \n",
            "218521              JUIZ DE FORA      Velocidade incompatível   \n",
            "218522                 TRES RIOS  Defeito mecânico em veículo   \n",
            "218523                 TRES RIOS                       Outras   \n",
            "\n",
            "                                     tipo_acidente  ... feridos_graves ilesos  \\\n",
            "122161                     Colisão com objeto fixo  ...              0      2   \n",
            "122162                            Colisão traseira  ...              0      1   \n",
            "122163                            Colisão traseira  ...              0      1   \n",
            "122164                       Colisão com bicicleta  ...              1      0   \n",
            "122165  Queda de motocicleta / bicicleta / veículo  ...              0      0   \n",
            "...                                            ...  ...            ...    ...   \n",
            "218519                              Saída de Pista  ...              0      0   \n",
            "218520                            Colisão traseira  ...              1      2   \n",
            "218521                              Saída de Pista  ...              0      0   \n",
            "218522                             Colisão lateral  ...              0      3   \n",
            "218523                                 Capotamento  ...              2      8   \n",
            "\n",
            "       ignorados feridos veiculos latitude longitude  regional  delegacia  uop  \n",
            "122161         0       0        2        0         0         0          0    0  \n",
            "122162         0       1        2        0         0         0          0    0  \n",
            "122163         0       1        2        0         0         0          0    0  \n",
            "122164         1       1        2        0         0         0          0    0  \n",
            "122165         0       1        1        0         0         0          0    0  \n",
            "...          ...     ...      ...      ...       ...       ...        ...  ...  \n",
            "218519         0       1        1        0         0         0          0    0  \n",
            "218520         0       1        2        0         0         0          0    0  \n",
            "218521         0       1        1        0         0         0          0    0  \n",
            "218522         0       0        2        0         0         0          0    0  \n",
            "218523         0       5        1        0         0         0          0    0  \n",
            "\n",
            "[96363 rows x 30 columns]\n"
          ]
        }
      ]
    },
    {
      "cell_type": "code",
      "source": [
        "print(data15_24.head(5))"
      ],
      "metadata": {
        "colab": {
          "base_uri": "https://localhost:8080/"
        },
        "id": "Ysdr3QPS95US",
        "outputId": "77628447-62dc-4f1f-81c7-46794fff8f93"
      },
      "execution_count": null,
      "outputs": [
        {
          "output_type": "stream",
          "name": "stdout",
          "text": [
            "           id data_inversa dia_semana   horario  uf   br     km  \\\n",
            "0  83298209.0   2015-01-01     Quinta  00:05:00  RJ  101  327.0   \n",
            "1  83298218.0   2015-01-01     Quinta  01:20:00  MS  163  434.4   \n",
            "2  83298220.0   2015-01-01     Quinta  01:45:00  RJ   40   64.0   \n",
            "3  83298221.0   2015-01-01     Quinta  02:50:00  SC  101  356.1   \n",
            "4  83298222.0   2015-01-01     Quinta  02:50:00  RS  101   25.9   \n",
            "\n",
            "         municipio    causa_acidente            tipo_acidente  ...  \\\n",
            "0          NITEROI            Outras         Colisão traseira  ...   \n",
            "1     CAMPO GRANDE  Animais na Pista           Saída de Pista  ...   \n",
            "2       PETROPOLIS            Outras  Colisão com objeto fixo  ...   \n",
            "3           SANGAO  Falta de atenção           Saída de Pista  ...   \n",
            "4  TRES CACHOEIRAS  Falta de atenção           Saída de Pista  ...   \n",
            "\n",
            "  feridos_graves ilesos ignorados feridos veiculos latitude longitude  \\\n",
            "0              0      2         0       0        2        0         0   \n",
            "1              0      1         0       1        1        0         0   \n",
            "2              0      2         0       0        2        0         0   \n",
            "3              0      0         0       4        1        0         0   \n",
            "4              0      1         0       0        1        0         0   \n",
            "\n",
            "   regional  delegacia  uop  \n",
            "0         0          0    0  \n",
            "1         0          0    0  \n",
            "2         0          0    0  \n",
            "3         0          0    0  \n",
            "4         0          0    0  \n",
            "\n",
            "[5 rows x 30 columns]\n"
          ]
        }
      ]
    },
    {
      "cell_type": "code",
      "source": [
        "# garantir que a coluna seja string e remover espaços\n",
        "data15_24[\"data_inversa\"] = data15_24[\"data_inversa\"].astype(str).str.strip()\n",
        "\n",
        "# selecionar apenas linhas no formato DD/MM/YY\n",
        "mask = data15_24[\"data_inversa\"].str.match(r\"^\\d{2}/\\d{2}/\\d{2}$\", na=False)\n",
        "\n",
        "# converter essas datas para o formato YYYY-MM-DD\n",
        "data15_24.loc[mask, \"data_inversa\"] = pd.to_datetime(\n",
        "    data15_24.loc[mask, \"data_inversa\"], format=\"%d/%m/%y\"\n",
        ").dt.strftime(\"%Y-%m-%d\")"
      ],
      "metadata": {
        "id": "4Pwurw69wUD9"
      },
      "execution_count": null,
      "outputs": []
    },
    {
      "cell_type": "code",
      "source": [
        "print(\"Valores vazios por coluna:\")\n",
        "print(data15_24.isnull().sum())"
      ],
      "metadata": {
        "colab": {
          "base_uri": "https://localhost:8080/"
        },
        "id": "YeURtTdD2j1M",
        "outputId": "a52e3769-8c4e-4c51-b47f-222f00f3e5cf"
      },
      "execution_count": null,
      "outputs": [
        {
          "output_type": "stream",
          "name": "stdout",
          "text": [
            "Valores vazios por coluna:\n",
            "id                         0\n",
            "data_inversa               0\n",
            "dia_semana                 0\n",
            "horario                    0\n",
            "uf                         0\n",
            "br                         0\n",
            "km                         0\n",
            "municipio                  0\n",
            "causa_acidente             0\n",
            "tipo_acidente             41\n",
            "classificacao_acidente    10\n",
            "fase_dia                   1\n",
            "sentido_via                0\n",
            "condicao_metereologica     3\n",
            "tipo_pista                 0\n",
            "tracado_via                0\n",
            "uso_solo                   0\n",
            "pessoas                    0\n",
            "mortos                     0\n",
            "feridos_leves              0\n",
            "feridos_graves             0\n",
            "ilesos                     0\n",
            "ignorados                  0\n",
            "feridos                    0\n",
            "veiculos                   0\n",
            "latitude                   0\n",
            "longitude                  0\n",
            "regional                   0\n",
            "delegacia                  0\n",
            "uop                        0\n",
            "dtype: int64\n"
          ]
        }
      ]
    },
    {
      "cell_type": "code",
      "source": [
        "def ano_invalido(val):\n",
        "    if isinstance(val, str) and val[:4].isdigit():\n",
        "        return False  # formato válido\n",
        "    else:\n",
        "        return True   # formato inválido\n",
        "\n",
        "# filtrar linhas com formato inválido\n",
        "linhas_invalidas = data15_24[data15_24[\"data_inversa\"].apply(ano_invalido)]\n",
        "\n",
        "print(\"Linhas com 'data_inversa' em formato inválido:\")\n",
        "print(linhas_invalidas)"
      ],
      "metadata": {
        "colab": {
          "base_uri": "https://localhost:8080/"
        },
        "id": "ZU23RcMy2qKT",
        "outputId": "67cc5677-edc5-4b22-8678-e276fd86d12a"
      },
      "execution_count": null,
      "outputs": [
        {
          "output_type": "stream",
          "name": "stdout",
          "text": [
            "Linhas com 'data_inversa' em formato inválido:\n",
            "Empty DataFrame\n",
            "Columns: [id, data_inversa, dia_semana, horario, uf, br, km, municipio, causa_acidente, tipo_acidente, classificacao_acidente, fase_dia, sentido_via, condicao_metereologica, tipo_pista, tracado_via, uso_solo, pessoas, mortos, feridos_leves, feridos_graves, ilesos, ignorados, feridos, veiculos, latitude, longitude, regional, delegacia, uop]\n",
            "Index: []\n",
            "\n",
            "[0 rows x 30 columns]\n"
          ]
        }
      ]
    },
    {
      "cell_type": "code",
      "source": [
        "# mostrar as linhas de 122161 até 122165 (inclusive)\n",
        "print(data15_24.iloc[122161:122166])"
      ],
      "metadata": {
        "colab": {
          "base_uri": "https://localhost:8080/"
        },
        "id": "nRUH0lBk3Ha0",
        "outputId": "a0ca1e65-8a9a-4713-8521-d76bf1cc0500"
      },
      "execution_count": null,
      "outputs": [
        {
          "output_type": "stream",
          "name": "stdout",
          "text": [
            "                id data_inversa dia_semana   horario  uf   br     km  \\\n",
            "122161     36727.0   2016-06-10      Sexta  18:30:00  RJ  101     66   \n",
            "122162  83425846.0   2016-01-01      Sexta  01:30:00  SC  101  135,5   \n",
            "122163  83425850.0   2016-01-01      Sexta  01:00:00  PR  277      2   \n",
            "122164  83425852.0   2016-01-01      Sexta  01:45:00  PR  476    357   \n",
            "122165  83425853.0   2016-01-01      Sexta  02:00:00  SE  101   94,2   \n",
            "\n",
            "                       municipio      causa_acidente  \\\n",
            "122161     CAMPOS DOS GOYTACAZES              Outras   \n",
            "122162        BALNEARIO CAMBORIU    Falta de atenção   \n",
            "122163                 PARANAGUA  Ingestão de álcool   \n",
            "122164          UNIAO DA VITORIA              Outras   \n",
            "122165  NOSSA SENHORA DO SOCORRO    Falta de atenção   \n",
            "\n",
            "                                     tipo_acidente  ... feridos_graves ilesos  \\\n",
            "122161                     Colisão com objeto fixo  ...              0      2   \n",
            "122162                            Colisão traseira  ...              0      1   \n",
            "122163                            Colisão traseira  ...              0      1   \n",
            "122164                       Colisão com bicicleta  ...              1      0   \n",
            "122165  Queda de motocicleta / bicicleta / veículo  ...              0      0   \n",
            "\n",
            "       ignorados feridos veiculos latitude longitude  regional  delegacia  uop  \n",
            "122161         0       0        2        0         0         0          0    0  \n",
            "122162         0       1        2        0         0         0          0    0  \n",
            "122163         0       1        2        0         0         0          0    0  \n",
            "122164         1       1        2        0         0         0          0    0  \n",
            "122165         0       1        1        0         0         0          0    0  \n",
            "\n",
            "[5 rows x 30 columns]\n"
          ]
        }
      ]
    },
    {
      "cell_type": "code",
      "source": [
        "data15_24.info()"
      ],
      "metadata": {
        "colab": {
          "base_uri": "https://localhost:8080/"
        },
        "id": "rfNHa_ou31aD",
        "outputId": "7bbba090-8e68-46e9-a8e9-2eeefddbb858"
      },
      "execution_count": null,
      "outputs": [
        {
          "output_type": "stream",
          "name": "stdout",
          "text": [
            "<class 'pandas.core.frame.DataFrame'>\n",
            "RangeIndex: 778662 entries, 0 to 778661\n",
            "Data columns (total 30 columns):\n",
            " #   Column                  Non-Null Count   Dtype  \n",
            "---  ------                  --------------   -----  \n",
            " 0   id                      778662 non-null  float64\n",
            " 1   data_inversa            778662 non-null  object \n",
            " 2   dia_semana              778662 non-null  object \n",
            " 3   horario                 778662 non-null  object \n",
            " 4   uf                      778662 non-null  object \n",
            " 5   br                      778662 non-null  int64  \n",
            " 6   km                      778662 non-null  object \n",
            " 7   municipio               778662 non-null  object \n",
            " 8   causa_acidente          778662 non-null  object \n",
            " 9   tipo_acidente           778621 non-null  object \n",
            " 10  classificacao_acidente  778652 non-null  object \n",
            " 11  fase_dia                778661 non-null  object \n",
            " 12  sentido_via             778662 non-null  object \n",
            " 13  condicao_metereologica  778659 non-null  object \n",
            " 14  tipo_pista              778662 non-null  object \n",
            " 15  tracado_via             778662 non-null  object \n",
            " 16  uso_solo                778662 non-null  object \n",
            " 17  pessoas                 778662 non-null  int64  \n",
            " 18  mortos                  778662 non-null  int64  \n",
            " 19  feridos_leves           778662 non-null  int64  \n",
            " 20  feridos_graves          778662 non-null  int64  \n",
            " 21  ilesos                  778662 non-null  int64  \n",
            " 22  ignorados               778662 non-null  int64  \n",
            " 23  feridos                 778662 non-null  int64  \n",
            " 24  veiculos                778662 non-null  int64  \n",
            " 25  latitude                778662 non-null  object \n",
            " 26  longitude               778662 non-null  object \n",
            " 27  regional                778662 non-null  object \n",
            " 28  delegacia               778662 non-null  object \n",
            " 29  uop                     778662 non-null  object \n",
            "dtypes: float64(1), int64(9), object(20)\n",
            "memory usage: 178.2+ MB\n"
          ]
        }
      ]
    },
    {
      "cell_type": "code",
      "source": [
        "data15_24[\"ano\"] = pd.to_datetime(data15_24[\"data_inversa\"], errors=\"coerce\").dt.year.astype(\"Int64\")\n",
        "data15_24.info()"
      ],
      "metadata": {
        "colab": {
          "base_uri": "https://localhost:8080/"
        },
        "id": "KMscXNSr46tD",
        "outputId": "99c5bdc6-de3d-4a52-decd-559eff700ded"
      },
      "execution_count": null,
      "outputs": [
        {
          "output_type": "stream",
          "name": "stdout",
          "text": [
            "<class 'pandas.core.frame.DataFrame'>\n",
            "RangeIndex: 778662 entries, 0 to 778661\n",
            "Data columns (total 31 columns):\n",
            " #   Column                  Non-Null Count   Dtype  \n",
            "---  ------                  --------------   -----  \n",
            " 0   id                      778662 non-null  float64\n",
            " 1   data_inversa            778662 non-null  object \n",
            " 2   dia_semana              778662 non-null  object \n",
            " 3   horario                 778662 non-null  object \n",
            " 4   uf                      778662 non-null  object \n",
            " 5   br                      778662 non-null  int64  \n",
            " 6   km                      778662 non-null  object \n",
            " 7   municipio               778662 non-null  object \n",
            " 8   causa_acidente          778662 non-null  object \n",
            " 9   tipo_acidente           778621 non-null  object \n",
            " 10  classificacao_acidente  778652 non-null  object \n",
            " 11  fase_dia                778661 non-null  object \n",
            " 12  sentido_via             778662 non-null  object \n",
            " 13  condicao_metereologica  778659 non-null  object \n",
            " 14  tipo_pista              778662 non-null  object \n",
            " 15  tracado_via             778662 non-null  object \n",
            " 16  uso_solo                778662 non-null  object \n",
            " 17  pessoas                 778662 non-null  int64  \n",
            " 18  mortos                  778662 non-null  int64  \n",
            " 19  feridos_leves           778662 non-null  int64  \n",
            " 20  feridos_graves          778662 non-null  int64  \n",
            " 21  ilesos                  778662 non-null  int64  \n",
            " 22  ignorados               778662 non-null  int64  \n",
            " 23  feridos                 778662 non-null  int64  \n",
            " 24  veiculos                778662 non-null  int64  \n",
            " 25  latitude                778662 non-null  object \n",
            " 26  longitude               778662 non-null  object \n",
            " 27  regional                778662 non-null  object \n",
            " 28  delegacia               778662 non-null  object \n",
            " 29  uop                     778662 non-null  object \n",
            " 30  ano                     778662 non-null  Int64  \n",
            "dtypes: Int64(1), float64(1), int64(9), object(20)\n",
            "memory usage: 184.9+ MB\n"
          ]
        }
      ]
    },
    {
      "cell_type": "code",
      "source": [
        "print(data15_24.iloc[122161:122166])"
      ],
      "metadata": {
        "colab": {
          "base_uri": "https://localhost:8080/"
        },
        "id": "BH5ooUHl5B77",
        "outputId": "1e9c4221-1a1e-451f-edea-9f7344c7955f"
      },
      "execution_count": null,
      "outputs": [
        {
          "output_type": "stream",
          "name": "stdout",
          "text": [
            "                id data_inversa dia_semana   horario  uf   br     km  \\\n",
            "122161     36727.0   2016-06-10      Sexta  18:30:00  RJ  101     66   \n",
            "122162  83425846.0   2016-01-01      Sexta  01:30:00  SC  101  135,5   \n",
            "122163  83425850.0   2016-01-01      Sexta  01:00:00  PR  277      2   \n",
            "122164  83425852.0   2016-01-01      Sexta  01:45:00  PR  476    357   \n",
            "122165  83425853.0   2016-01-01      Sexta  02:00:00  SE  101   94,2   \n",
            "\n",
            "                       municipio      causa_acidente  \\\n",
            "122161     CAMPOS DOS GOYTACAZES              Outras   \n",
            "122162        BALNEARIO CAMBORIU    Falta de atenção   \n",
            "122163                 PARANAGUA  Ingestão de álcool   \n",
            "122164          UNIAO DA VITORIA              Outras   \n",
            "122165  NOSSA SENHORA DO SOCORRO    Falta de atenção   \n",
            "\n",
            "                                     tipo_acidente  ... ilesos ignorados  \\\n",
            "122161                     Colisão com objeto fixo  ...      2         0   \n",
            "122162                            Colisão traseira  ...      1         0   \n",
            "122163                            Colisão traseira  ...      1         0   \n",
            "122164                       Colisão com bicicleta  ...      0         1   \n",
            "122165  Queda de motocicleta / bicicleta / veículo  ...      0         0   \n",
            "\n",
            "       feridos veiculos latitude longitude regional  delegacia  uop   ano  \n",
            "122161       0        2        0         0        0          0    0  2016  \n",
            "122162       1        2        0         0        0          0    0  2016  \n",
            "122163       1        2        0         0        0          0    0  2016  \n",
            "122164       1        2        0         0        0          0    0  2016  \n",
            "122165       1        1        0         0        0          0    0  2016  \n",
            "\n",
            "[5 rows x 31 columns]\n"
          ]
        }
      ]
    },
    {
      "cell_type": "code",
      "source": [
        "print(\"Valores vazios por coluna:\")\n",
        "print(data15_24.isnull().sum())"
      ],
      "metadata": {
        "colab": {
          "base_uri": "https://localhost:8080/"
        },
        "id": "ETe4VdmF5StT",
        "outputId": "72f4bf85-d071-464b-ef65-efbc11398cda"
      },
      "execution_count": null,
      "outputs": [
        {
          "output_type": "stream",
          "name": "stdout",
          "text": [
            "Valores vazios por coluna:\n",
            "id                         0\n",
            "data_inversa               0\n",
            "dia_semana                 0\n",
            "horario                    0\n",
            "uf                         0\n",
            "br                         0\n",
            "km                         0\n",
            "municipio                  0\n",
            "causa_acidente             0\n",
            "tipo_acidente             41\n",
            "classificacao_acidente    10\n",
            "fase_dia                   1\n",
            "sentido_via                0\n",
            "condicao_metereologica     3\n",
            "tipo_pista                 0\n",
            "tracado_via                0\n",
            "uso_solo                   0\n",
            "pessoas                    0\n",
            "mortos                     0\n",
            "feridos_leves              0\n",
            "feridos_graves             0\n",
            "ilesos                     0\n",
            "ignorados                  0\n",
            "feridos                    0\n",
            "veiculos                   0\n",
            "latitude                   0\n",
            "longitude                  0\n",
            "regional                   0\n",
            "delegacia                  0\n",
            "uop                        0\n",
            "ano                        0\n",
            "dtype: int64\n"
          ]
        }
      ]
    },
    {
      "cell_type": "code",
      "source": [
        "# lista das colunas que queremos checar\n",
        "cols_vazias = ['tipo_acidente', 'classificacao_acidente', 'fase_dia', 'condicao_metereologica']\n",
        "\n",
        "# filtrar linhas que possuem pelo menos um valor vazio nessas colunas\n",
        "linhas_com_vazios = data15_24[data15_24[cols_vazias].isnull().any(axis=1)]\n",
        "\n",
        "# mostrar as linhas com células vazias nessas colunas\n",
        "print(linhas_com_vazios[cols_vazias])"
      ],
      "metadata": {
        "colab": {
          "base_uri": "https://localhost:8080/"
        },
        "id": "KpRB5oMK6kLB",
        "outputId": "ae137780-86c4-45e7-fc64-2086431d1195"
      },
      "execution_count": null,
      "outputs": [
        {
          "output_type": "stream",
          "name": "stdout",
          "text": [
            "                         tipo_acidente classificacao_acidente     fase_dia  \\\n",
            "122161         Colisão com objeto fixo                    NaN  Plena noite   \n",
            "133349             Colisão Transversal    Com Vítimas Feridas    Pleno dia   \n",
            "167679                 Colisão frontal    Com Vítimas Feridas  Plena noite   \n",
            "176644             Colisão Transversal            Sem Vítimas    Pleno dia   \n",
            "213090                     Capotamento    Com Vítimas Feridas          NaN   \n",
            "218528     Colisão com objeto estático                    NaN    Pleno dia   \n",
            "308093                 Colisão lateral                    NaN    Pleno dia   \n",
            "324655                             NaN    Com Vítimas Feridas    Pleno dia   \n",
            "325999                             NaN    Com Vítimas Feridas    Anoitecer   \n",
            "326132                             NaN    Com Vítimas Feridas    Pleno dia   \n",
            "326351                             NaN    Com Vítimas Feridas  Plena Noite   \n",
            "353652                             NaN     Com Vítimas Fatais  Plena Noite   \n",
            "370846                             NaN    Com Vítimas Feridas  Plena Noite   \n",
            "371503                             NaN    Com Vítimas Feridas    Pleno dia   \n",
            "371504                             NaN    Com Vítimas Feridas    Pleno dia   \n",
            "372026                             NaN     Com Vítimas Fatais    Pleno dia   \n",
            "373061                             NaN    Com Vítimas Feridas    Amanhecer   \n",
            "373889                             NaN            Sem Vítimas    Pleno dia   \n",
            "374002                             NaN    Com Vítimas Feridas    Pleno dia   \n",
            "374267                             NaN            Sem Vítimas  Plena Noite   \n",
            "374663                             NaN    Com Vítimas Feridas  Plena Noite   \n",
            "375744                             NaN    Com Vítimas Feridas    Pleno dia   \n",
            "375901                             NaN    Com Vítimas Feridas    Amanhecer   \n",
            "376350                             NaN    Com Vítimas Feridas    Pleno dia   \n",
            "376422                             NaN    Com Vítimas Feridas  Plena Noite   \n",
            "376733                             NaN    Com Vítimas Feridas    Pleno dia   \n",
            "376737                             NaN    Com Vítimas Feridas  Plena Noite   \n",
            "376744                             NaN    Com Vítimas Feridas    Anoitecer   \n",
            "376759                             NaN    Com Vítimas Feridas  Plena Noite   \n",
            "376873                             NaN    Com Vítimas Feridas    Pleno dia   \n",
            "377426                Colisão traseira                    NaN    Pleno dia   \n",
            "377529                             NaN            Sem Vítimas    Pleno dia   \n",
            "377888                             NaN    Com Vítimas Feridas  Plena Noite   \n",
            "377921                             NaN            Sem Vítimas  Plena Noite   \n",
            "378194                             NaN    Com Vítimas Feridas    Pleno dia   \n",
            "394338                             NaN    Com Vítimas Feridas    Pleno dia   \n",
            "395343                             NaN    Com Vítimas Feridas  Plena Noite   \n",
            "395969                             NaN    Com Vítimas Feridas    Pleno dia   \n",
            "396795                             NaN     Com Vítimas Fatais  Plena Noite   \n",
            "396807                             NaN            Sem Vítimas  Plena Noite   \n",
            "397456                             NaN    Com Vítimas Feridas    Pleno dia   \n",
            "398108                             NaN    Com Vítimas Feridas  Plena Noite   \n",
            "398396                             NaN            Sem Vítimas    Pleno dia   \n",
            "399385                             NaN    Com Vítimas Feridas  Plena Noite   \n",
            "399904                             NaN    Com Vítimas Feridas    Pleno dia   \n",
            "399980                             NaN    Com Vítimas Feridas    Amanhecer   \n",
            "400223                             NaN    Com Vítimas Feridas  Plena Noite   \n",
            "400348                             NaN    Com Vítimas Feridas    Amanhecer   \n",
            "444982       Saída de leito carroçável                    NaN    Pleno dia   \n",
            "462077                             NaN                    NaN  Plena Noite   \n",
            "508568                Colisão traseira                    NaN    Pleno dia   \n",
            "573134                Colisão traseira                    NaN  Plena Noite   \n",
            "637742                      Tombamento                    NaN  Plena Noite   \n",
            "705506  Colisão lateral sentido oposto                    NaN  Plena Noite   \n",
            "\n",
            "       condicao_metereologica  \n",
            "122161                Nublado  \n",
            "133349                    NaN  \n",
            "167679                    NaN  \n",
            "176644                    NaN  \n",
            "213090                  Chuva  \n",
            "218528              Céu Claro  \n",
            "308093              Céu Claro  \n",
            "324655              Céu Claro  \n",
            "325999                  Chuva  \n",
            "326132              Céu Claro  \n",
            "326351              Céu Claro  \n",
            "353652              Céu Claro  \n",
            "370846               Ignorado  \n",
            "371503               Ignorado  \n",
            "371504              Céu Claro  \n",
            "372026              Céu Claro  \n",
            "373061                Nublado  \n",
            "373889               Ignorado  \n",
            "374002              Céu Claro  \n",
            "374267              Céu Claro  \n",
            "374663               Ignorado  \n",
            "375744              Céu Claro  \n",
            "375901               Ignorado  \n",
            "376350         Garoa/Chuvisco  \n",
            "376422              Céu Claro  \n",
            "376733              Céu Claro  \n",
            "376737       Nevoeiro/Neblina  \n",
            "376744              Céu Claro  \n",
            "376759              Céu Claro  \n",
            "376873              Céu Claro  \n",
            "377426                Nublado  \n",
            "377529              Céu Claro  \n",
            "377888                  Chuva  \n",
            "377921              Céu Claro  \n",
            "378194                Nublado  \n",
            "394338              Céu Claro  \n",
            "395343                  Chuva  \n",
            "395969              Céu Claro  \n",
            "396795              Céu Claro  \n",
            "396807              Céu Claro  \n",
            "397456              Céu Claro  \n",
            "398108              Céu Claro  \n",
            "398396              Céu Claro  \n",
            "399385              Céu Claro  \n",
            "399904              Céu Claro  \n",
            "399980              Céu Claro  \n",
            "400223               Ignorado  \n",
            "400348              Céu Claro  \n",
            "444982              Céu Claro  \n",
            "462077                  Chuva  \n",
            "508568              Céu Claro  \n",
            "573134                Nublado  \n",
            "637742               Ignorado  \n",
            "705506              Céu Claro  \n"
          ]
        }
      ]
    },
    {
      "cell_type": "code",
      "source": [
        "data15_24.to_csv('data15_24_02.csv', sep=';', encoding='UTF-8', index=False)\n",
        "\n",
        "from google.colab import files\n",
        "\n",
        "files.download('data15_24_02.csv')"
      ],
      "metadata": {
        "colab": {
          "base_uri": "https://localhost:8080/",
          "height": 17
        },
        "id": "XHAximti8WSB",
        "outputId": "f9f33e17-1416-4aa0-afbd-70f71db5fef6"
      },
      "execution_count": null,
      "outputs": [
        {
          "output_type": "display_data",
          "data": {
            "text/plain": [
              "<IPython.core.display.Javascript object>"
            ],
            "application/javascript": [
              "\n",
              "    async function download(id, filename, size) {\n",
              "      if (!google.colab.kernel.accessAllowed) {\n",
              "        return;\n",
              "      }\n",
              "      const div = document.createElement('div');\n",
              "      const label = document.createElement('label');\n",
              "      label.textContent = `Downloading \"${filename}\": `;\n",
              "      div.appendChild(label);\n",
              "      const progress = document.createElement('progress');\n",
              "      progress.max = size;\n",
              "      div.appendChild(progress);\n",
              "      document.body.appendChild(div);\n",
              "\n",
              "      const buffers = [];\n",
              "      let downloaded = 0;\n",
              "\n",
              "      const channel = await google.colab.kernel.comms.open(id);\n",
              "      // Send a message to notify the kernel that we're ready.\n",
              "      channel.send({})\n",
              "\n",
              "      for await (const message of channel.messages) {\n",
              "        // Send a message to notify the kernel that we're ready.\n",
              "        channel.send({})\n",
              "        if (message.buffers) {\n",
              "          for (const buffer of message.buffers) {\n",
              "            buffers.push(buffer);\n",
              "            downloaded += buffer.byteLength;\n",
              "            progress.value = downloaded;\n",
              "          }\n",
              "        }\n",
              "      }\n",
              "      const blob = new Blob(buffers, {type: 'application/binary'});\n",
              "      const a = document.createElement('a');\n",
              "      a.href = window.URL.createObjectURL(blob);\n",
              "      a.download = filename;\n",
              "      div.appendChild(a);\n",
              "      a.click();\n",
              "      div.remove();\n",
              "    }\n",
              "  "
            ]
          },
          "metadata": {}
        },
        {
          "output_type": "display_data",
          "data": {
            "text/plain": [
              "<IPython.core.display.Javascript object>"
            ],
            "application/javascript": [
              "download(\"download_0ea25672-e6cf-4950-b5ab-e9591627f485\", \"data15_24_02.csv\", 192328327)"
            ]
          },
          "metadata": {}
        }
      ]
    }
  ]
}