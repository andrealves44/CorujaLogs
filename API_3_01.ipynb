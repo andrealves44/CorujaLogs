{
  "nbformat": 4,
  "nbformat_minor": 0,
  "metadata": {
    "colab": {
      "provenance": [],
      "include_colab_link": true
    },
    "kernelspec": {
      "name": "python3",
      "display_name": "Python 3"
    },
    "language_info": {
      "name": "python"
    }
  },
  "cells": [
    {
      "cell_type": "markdown",
      "metadata": {
        "id": "view-in-github",
        "colab_type": "text"
      },
      "source": [
        "<a href=\"https://colab.research.google.com/github/andrealves44/CorujaLogs/blob/main/API_3_01.ipynb\" target=\"_parent\"><img src=\"https://colab.research.google.com/assets/colab-badge.svg\" alt=\"Open In Colab\"/></a>"
      ]
    },
    {
      "cell_type": "code",
      "execution_count": null,
      "metadata": {
        "id": "PHoMTa4L4cUZ"
      },
      "outputs": [],
      "source": [
        "import pandas as pd\n",
        "import numpy as np"
      ]
    },
    {
      "cell_type": "code",
      "source": [
        "from google.colab import drive\n",
        "\n",
        "# Montar o Google Drive\n",
        "drive.mount('/content/drive')"
      ],
      "metadata": {
        "colab": {
          "base_uri": "https://localhost:8080/"
        },
        "id": "k1hjTVX38GVn",
        "outputId": "233cf595-f808-4225-c194-77af1110f921"
      },
      "execution_count": null,
      "outputs": [
        {
          "output_type": "stream",
          "name": "stdout",
          "text": [
            "Mounted at /content/drive\n"
          ]
        }
      ]
    },
    {
      "cell_type": "code",
      "source": [
        "# Verificar o conteúdo da pasta 'DadosComexStat'\n",
        "import os\n",
        "\n",
        "# Caminho da pasta no Google Drive\n",
        "pasta_drive = '/content/drive/MyDrive/Data/API-3'"
      ],
      "metadata": {
        "id": "1EfNZKgG8vJ2"
      },
      "execution_count": null,
      "outputs": []
    },
    {
      "cell_type": "code",
      "source": [
        "if os.path.exists(pasta_drive):\n",
        "    arquivos = os.listdir(pasta_drive)\n",
        "    print(f\"{arquivos}\")\n",
        "else:\n",
        "    print(f\"Pasta não encontrada no Google Drive.\")"
      ],
      "metadata": {
        "colab": {
          "base_uri": "https://localhost:8080/"
        },
        "id": "EbPDHb2C9KzX",
        "outputId": "cd43fa4c-8c66-489f-aaeb-962606dfe920"
      },
      "execution_count": null,
      "outputs": [
        {
          "output_type": "stream",
          "name": "stdout",
          "text": [
            "['datatran2015.csv', 'datatran2016.csv', 'datatran2022.csv', 'datatran2023.csv', 'datatran2017.csv', 'datatran2018.csv', 'datatran2019.csv', 'datatran2020.csv', 'datatran2021.csv', 'datatran2024.csv', 'datatran2025.csv', 'data15_25.csv', 'data15_24.csv', 'data17_24.csv']\n"
          ]
        }
      ]
    },
    {
      "cell_type": "code",
      "source": [
        "arquivo_1 = '/content/drive/MyDrive/Data/API-3/datatran2015.csv'\n",
        "arquivo_2 = '/content/drive/MyDrive/Data/API-3/datatran2016.csv'\n",
        "arquivo_3 = '/content/drive/MyDrive/Data/API-3/datatran2017.csv'\n",
        "arquivo_4 = '/content/drive/MyDrive/Data/API-3/datatran2018.csv'\n",
        "arquivo_5 = '/content/drive/MyDrive/Data/API-3/datatran2019.csv'\n",
        "arquivo_6 = '/content/drive/MyDrive/Data/API-3/datatran2020.csv'\n",
        "arquivo_7 = '/content/drive/MyDrive/Data/API-3/datatran2021.csv'\n",
        "arquivo_8 = '/content/drive/MyDrive/Data/API-3/datatran2022.csv'\n",
        "arquivo_9 = '/content/drive/MyDrive/Data/API-3/datatran2023.csv'\n",
        "arquivo_10 = '/content/drive/MyDrive/Data/API-3/datatran2024.csv'\n",
        "arquivo_11 = '/content/drive/MyDrive/Data/API-3/datatran2025.csv'"
      ],
      "metadata": {
        "id": "yqr2IIA1Ts2-"
      },
      "execution_count": null,
      "outputs": []
    },
    {
      "cell_type": "code",
      "source": [
        "data15 = pd.read_csv(arquivo_1, sep=';', low_memory=False, encoding='latin-1')\n",
        "data16 = pd.read_csv(arquivo_2, sep=';', low_memory=False, encoding='latin-1')\n",
        "data17 = pd.read_csv(arquivo_3, sep=';', low_memory=False, encoding='latin-1')\n",
        "data18 = pd.read_csv(arquivo_4, sep=';', low_memory=False, encoding='latin-1')\n",
        "data19 = pd.read_csv(arquivo_5, sep=';', low_memory=False, encoding='latin-1')\n",
        "data20 = pd.read_csv(arquivo_6, sep=';', low_memory=False, encoding='latin-1')\n",
        "data21 = pd.read_csv(arquivo_7, sep=';', low_memory=False, encoding='latin-1')\n",
        "data22 = pd.read_csv(arquivo_8, sep=';', low_memory=False, encoding='latin-1')\n",
        "data23 = pd.read_csv(arquivo_9, sep=';', low_memory=False, encoding='latin-1')\n",
        "data24 = pd.read_csv(arquivo_10, sep=';', low_memory=False, encoding='latin-1')\n",
        "data25 = pd.read_csv(arquivo_11, sep=';', low_memory=False, encoding='latin-1')"
      ],
      "metadata": {
        "id": "VmbAM_dmS9YY"
      },
      "execution_count": null,
      "outputs": []
    },
    {
      "cell_type": "code",
      "source": [
        "data15.info()"
      ],
      "metadata": {
        "colab": {
          "base_uri": "https://localhost:8080/"
        },
        "id": "jSyohUcpV5L9",
        "outputId": "8ce64cd9-a5e8-4800-8bd6-c6eda954b4e5"
      },
      "execution_count": null,
      "outputs": [
        {
          "output_type": "stream",
          "name": "stdout",
          "text": [
            "<class 'pandas.core.frame.DataFrame'>\n",
            "RangeIndex: 122161 entries, 0 to 122160\n",
            "Data columns (total 26 columns):\n",
            " #   Column                  Non-Null Count   Dtype  \n",
            "---  ------                  --------------   -----  \n",
            " 0   id                      122161 non-null  int64  \n",
            " 1   data_inversa            122161 non-null  object \n",
            " 2   dia_semana              122161 non-null  object \n",
            " 3   horario                 122161 non-null  object \n",
            " 4   uf                      122161 non-null  object \n",
            " 5   br                      122161 non-null  int64  \n",
            " 6   km                      122161 non-null  float64\n",
            " 7   municipio               122161 non-null  object \n",
            " 8   causa_acidente          122161 non-null  object \n",
            " 9   tipo_acidente           122161 non-null  object \n",
            " 10  classificacao_acidente  122161 non-null  object \n",
            " 11  fase_dia                122161 non-null  object \n",
            " 12  sentido_via             122161 non-null  object \n",
            " 13  condicao_metereologica  122161 non-null  object \n",
            " 14  tipo_pista              122161 non-null  object \n",
            " 15  tracado_via             122161 non-null  object \n",
            " 16  uso_solo                122161 non-null  object \n",
            " 17  ano                     122161 non-null  int64  \n",
            " 18  pessoas                 122161 non-null  int64  \n",
            " 19  mortos                  122161 non-null  int64  \n",
            " 20  feridos_leves           122161 non-null  int64  \n",
            " 21  feridos_graves          122161 non-null  int64  \n",
            " 22  ilesos                  122161 non-null  int64  \n",
            " 23  ignorados               122161 non-null  int64  \n",
            " 24  feridos                 122161 non-null  int64  \n",
            " 25  veiculos                122161 non-null  int64  \n",
            "dtypes: float64(1), int64(11), object(14)\n",
            "memory usage: 24.2+ MB\n"
          ]
        }
      ]
    },
    {
      "cell_type": "code",
      "source": [
        "data15_24 = pd.concat([data15, data16, data17, data18, data19, data20, data21, data22, data23, data24,], ignore_index=True)\n",
        "data15_24.info()"
      ],
      "metadata": {
        "colab": {
          "base_uri": "https://localhost:8080/"
        },
        "id": "Fl6mNRdZ2jNF",
        "outputId": "26436c84-9414-4acf-ec8b-2877000d967c"
      },
      "execution_count": null,
      "outputs": [
        {
          "output_type": "stream",
          "name": "stdout",
          "text": [
            "<class 'pandas.core.frame.DataFrame'>\n",
            "RangeIndex: 778662 entries, 0 to 778661\n",
            "Data columns (total 31 columns):\n",
            " #   Column                  Non-Null Count   Dtype  \n",
            "---  ------                  --------------   -----  \n",
            " 0   id                      778662 non-null  float64\n",
            " 1   data_inversa            778662 non-null  object \n",
            " 2   dia_semana              778662 non-null  object \n",
            " 3   horario                 778662 non-null  object \n",
            " 4   uf                      778662 non-null  object \n",
            " 5   br                      778662 non-null  int64  \n",
            " 6   km                      778662 non-null  object \n",
            " 7   municipio               778662 non-null  object \n",
            " 8   causa_acidente          778662 non-null  object \n",
            " 9   tipo_acidente           778621 non-null  object \n",
            " 10  classificacao_acidente  778652 non-null  object \n",
            " 11  fase_dia                778661 non-null  object \n",
            " 12  sentido_via             778662 non-null  object \n",
            " 13  condicao_metereologica  778659 non-null  object \n",
            " 14  tipo_pista              778662 non-null  object \n",
            " 15  tracado_via             778662 non-null  object \n",
            " 16  uso_solo                778662 non-null  object \n",
            " 17  ano                     122161 non-null  float64\n",
            " 18  pessoas                 778662 non-null  int64  \n",
            " 19  mortos                  778662 non-null  int64  \n",
            " 20  feridos_leves           778662 non-null  int64  \n",
            " 21  feridos_graves          778662 non-null  int64  \n",
            " 22  ilesos                  778662 non-null  int64  \n",
            " 23  ignorados               778662 non-null  int64  \n",
            " 24  feridos                 778662 non-null  int64  \n",
            " 25  veiculos                778662 non-null  int64  \n",
            " 26  latitude                560138 non-null  object \n",
            " 27  longitude               560138 non-null  object \n",
            " 28  regional                560111 non-null  object \n",
            " 29  delegacia               559923 non-null  object \n",
            " 30  uop                     559742 non-null  object \n",
            "dtypes: float64(2), int64(9), object(20)\n",
            "memory usage: 184.2+ MB\n"
          ]
        }
      ]
    },
    {
      "cell_type": "code",
      "source": [
        "print(\"Valores vazios por coluna:\")\n",
        "print(data15_24.isnull().sum())\n"
      ],
      "metadata": {
        "colab": {
          "base_uri": "https://localhost:8080/"
        },
        "id": "f-Mo2F8l2rb8",
        "outputId": "0f08c16a-a931-4586-b6cd-5fc5ed369031"
      },
      "execution_count": null,
      "outputs": [
        {
          "output_type": "stream",
          "name": "stdout",
          "text": [
            "Valores vazios por coluna:\n",
            "id                             0\n",
            "data_inversa                   0\n",
            "dia_semana                     0\n",
            "horario                        0\n",
            "uf                             0\n",
            "br                             0\n",
            "km                             0\n",
            "municipio                      0\n",
            "causa_acidente                 0\n",
            "tipo_acidente                 41\n",
            "classificacao_acidente        10\n",
            "fase_dia                       1\n",
            "sentido_via                    0\n",
            "condicao_metereologica         3\n",
            "tipo_pista                     0\n",
            "tracado_via                    0\n",
            "uso_solo                       0\n",
            "ano                       656501\n",
            "pessoas                        0\n",
            "mortos                         0\n",
            "feridos_leves                  0\n",
            "feridos_graves                 0\n",
            "ilesos                         0\n",
            "ignorados                      0\n",
            "feridos                        0\n",
            "veiculos                       0\n",
            "latitude                  218524\n",
            "longitude                 218524\n",
            "regional                  218551\n",
            "delegacia                 218739\n",
            "uop                       218920\n",
            "dtype: int64\n"
          ]
        }
      ]
    },
    {
      "cell_type": "code",
      "source": [
        "data15_24 = data15_24.drop(columns=[\"ano\"])"
      ],
      "metadata": {
        "id": "0NnOQCYp2vKk"
      },
      "execution_count": null,
      "outputs": []
    },
    {
      "cell_type": "code",
      "source": [
        "data15_24.info()"
      ],
      "metadata": {
        "colab": {
          "base_uri": "https://localhost:8080/"
        },
        "id": "y7LECO7m2-0M",
        "outputId": "2ad68de1-edca-4b93-80cd-0e152f87f3b8"
      },
      "execution_count": null,
      "outputs": [
        {
          "output_type": "stream",
          "name": "stdout",
          "text": [
            "<class 'pandas.core.frame.DataFrame'>\n",
            "RangeIndex: 778662 entries, 0 to 778661\n",
            "Data columns (total 30 columns):\n",
            " #   Column                  Non-Null Count   Dtype  \n",
            "---  ------                  --------------   -----  \n",
            " 0   id                      778662 non-null  float64\n",
            " 1   data_inversa            778662 non-null  object \n",
            " 2   dia_semana              778662 non-null  object \n",
            " 3   horario                 778662 non-null  object \n",
            " 4   uf                      778662 non-null  object \n",
            " 5   br                      778662 non-null  int64  \n",
            " 6   km                      778662 non-null  object \n",
            " 7   municipio               778662 non-null  object \n",
            " 8   causa_acidente          778662 non-null  object \n",
            " 9   tipo_acidente           778621 non-null  object \n",
            " 10  classificacao_acidente  778652 non-null  object \n",
            " 11  fase_dia                778661 non-null  object \n",
            " 12  sentido_via             778662 non-null  object \n",
            " 13  condicao_metereologica  778659 non-null  object \n",
            " 14  tipo_pista              778662 non-null  object \n",
            " 15  tracado_via             778662 non-null  object \n",
            " 16  uso_solo                778662 non-null  object \n",
            " 17  pessoas                 778662 non-null  int64  \n",
            " 18  mortos                  778662 non-null  int64  \n",
            " 19  feridos_leves           778662 non-null  int64  \n",
            " 20  feridos_graves          778662 non-null  int64  \n",
            " 21  ilesos                  778662 non-null  int64  \n",
            " 22  ignorados               778662 non-null  int64  \n",
            " 23  feridos                 778662 non-null  int64  \n",
            " 24  veiculos                778662 non-null  int64  \n",
            " 25  latitude                560138 non-null  object \n",
            " 26  longitude               560138 non-null  object \n",
            " 27  regional                560111 non-null  object \n",
            " 28  delegacia               559923 non-null  object \n",
            " 29  uop                     559742 non-null  object \n",
            "dtypes: float64(1), int64(9), object(20)\n",
            "memory usage: 178.2+ MB\n"
          ]
        }
      ]
    },
    {
      "cell_type": "code",
      "source": [
        "# lista das colunas que queremos preencher\n",
        "cols = [\"latitude\", \"longitude\", \"regional\", \"delegacia\", \"uop\"]\n",
        "\n",
        "# preencher apenas os valores vazios (NaN) com 0\n",
        "data15_24[cols] = data15_24[cols].fillna(0)"
      ],
      "metadata": {
        "id": "hr53sZMz3iYE"
      },
      "execution_count": null,
      "outputs": []
    },
    {
      "cell_type": "code",
      "source": [
        "print(\"Valores vazios por coluna:\")\n",
        "print(data15_24.isnull().sum())"
      ],
      "metadata": {
        "colab": {
          "base_uri": "https://localhost:8080/"
        },
        "id": "3m4yv4203k9E",
        "outputId": "31857bba-442b-4f75-a8a5-22336f8e4366"
      },
      "execution_count": null,
      "outputs": [
        {
          "output_type": "stream",
          "name": "stdout",
          "text": [
            "Valores vazios por coluna:\n",
            "id                         0\n",
            "data_inversa               0\n",
            "dia_semana                 0\n",
            "horario                    0\n",
            "uf                         0\n",
            "br                         0\n",
            "km                         0\n",
            "municipio                  0\n",
            "causa_acidente             0\n",
            "tipo_acidente             41\n",
            "classificacao_acidente    10\n",
            "fase_dia                   1\n",
            "sentido_via                0\n",
            "condicao_metereologica     3\n",
            "tipo_pista                 0\n",
            "tracado_via                0\n",
            "uso_solo                   0\n",
            "pessoas                    0\n",
            "mortos                     0\n",
            "feridos_leves              0\n",
            "feridos_graves             0\n",
            "ilesos                     0\n",
            "ignorados                  0\n",
            "feridos                    0\n",
            "veiculos                   0\n",
            "latitude                   0\n",
            "longitude                  0\n",
            "regional                   0\n",
            "delegacia                  0\n",
            "uop                        0\n",
            "dtype: int64\n"
          ]
        }
      ]
    },
    {
      "cell_type": "code",
      "source": [
        "data15_24.to_csv('data15_24.csv', sep=';', encoding='UTF-8', index=False)\n",
        "\n",
        "from google.colab import files\n",
        "\n",
        "files.download('data15_24.csv')"
      ],
      "metadata": {
        "colab": {
          "base_uri": "https://localhost:8080/",
          "height": 17
        },
        "id": "lLdMFKKZ3wE0",
        "outputId": "54024ee0-e6a0-44a4-c876-72c68c0c1db7"
      },
      "execution_count": null,
      "outputs": [
        {
          "output_type": "display_data",
          "data": {
            "text/plain": [
              "<IPython.core.display.Javascript object>"
            ],
            "application/javascript": [
              "\n",
              "    async function download(id, filename, size) {\n",
              "      if (!google.colab.kernel.accessAllowed) {\n",
              "        return;\n",
              "      }\n",
              "      const div = document.createElement('div');\n",
              "      const label = document.createElement('label');\n",
              "      label.textContent = `Downloading \"${filename}\": `;\n",
              "      div.appendChild(label);\n",
              "      const progress = document.createElement('progress');\n",
              "      progress.max = size;\n",
              "      div.appendChild(progress);\n",
              "      document.body.appendChild(div);\n",
              "\n",
              "      const buffers = [];\n",
              "      let downloaded = 0;\n",
              "\n",
              "      const channel = await google.colab.kernel.comms.open(id);\n",
              "      // Send a message to notify the kernel that we're ready.\n",
              "      channel.send({})\n",
              "\n",
              "      for await (const message of channel.messages) {\n",
              "        // Send a message to notify the kernel that we're ready.\n",
              "        channel.send({})\n",
              "        if (message.buffers) {\n",
              "          for (const buffer of message.buffers) {\n",
              "            buffers.push(buffer);\n",
              "            downloaded += buffer.byteLength;\n",
              "            progress.value = downloaded;\n",
              "          }\n",
              "        }\n",
              "      }\n",
              "      const blob = new Blob(buffers, {type: 'application/binary'});\n",
              "      const a = document.createElement('a');\n",
              "      a.href = window.URL.createObjectURL(blob);\n",
              "      a.download = filename;\n",
              "      div.appendChild(a);\n",
              "      a.click();\n",
              "      div.remove();\n",
              "    }\n",
              "  "
            ]
          },
          "metadata": {}
        },
        {
          "output_type": "display_data",
          "data": {
            "text/plain": [
              "<IPython.core.display.Javascript object>"
            ],
            "application/javascript": [
              "download(\"download_cfcacde3-e5d3-4bad-becd-3fa524eeefd1\", \"data15_24.csv\", 188242287)"
            ]
          },
          "metadata": {}
        }
      ]
    },
    {
      "cell_type": "code",
      "source": [
        "data15_24.info()"
      ],
      "metadata": {
        "colab": {
          "base_uri": "https://localhost:8080/"
        },
        "id": "cTn_b4eq4-wj",
        "outputId": "140f20d9-2d2e-462b-b038-4e2bc23a31ef"
      },
      "execution_count": null,
      "outputs": [
        {
          "output_type": "stream",
          "name": "stdout",
          "text": [
            "<class 'pandas.core.frame.DataFrame'>\n",
            "RangeIndex: 778662 entries, 0 to 778661\n",
            "Data columns (total 30 columns):\n",
            " #   Column                  Non-Null Count   Dtype  \n",
            "---  ------                  --------------   -----  \n",
            " 0   id                      778662 non-null  float64\n",
            " 1   data_inversa            778662 non-null  object \n",
            " 2   dia_semana              778662 non-null  object \n",
            " 3   horario                 778662 non-null  object \n",
            " 4   uf                      778662 non-null  object \n",
            " 5   br                      778662 non-null  int64  \n",
            " 6   km                      778662 non-null  object \n",
            " 7   municipio               778662 non-null  object \n",
            " 8   causa_acidente          778662 non-null  object \n",
            " 9   tipo_acidente           778621 non-null  object \n",
            " 10  classificacao_acidente  778652 non-null  object \n",
            " 11  fase_dia                778661 non-null  object \n",
            " 12  sentido_via             778662 non-null  object \n",
            " 13  condicao_metereologica  778659 non-null  object \n",
            " 14  tipo_pista              778662 non-null  object \n",
            " 15  tracado_via             778662 non-null  object \n",
            " 16  uso_solo                778662 non-null  object \n",
            " 17  pessoas                 778662 non-null  int64  \n",
            " 18  mortos                  778662 non-null  int64  \n",
            " 19  feridos_leves           778662 non-null  int64  \n",
            " 20  feridos_graves          778662 non-null  int64  \n",
            " 21  ilesos                  778662 non-null  int64  \n",
            " 22  ignorados               778662 non-null  int64  \n",
            " 23  feridos                 778662 non-null  int64  \n",
            " 24  veiculos                778662 non-null  int64  \n",
            " 25  latitude                778662 non-null  object \n",
            " 26  longitude               778662 non-null  object \n",
            " 27  regional                778662 non-null  object \n",
            " 28  delegacia               778662 non-null  object \n",
            " 29  uop                     778662 non-null  object \n",
            "dtypes: float64(1), int64(9), object(20)\n",
            "memory usage: 178.2+ MB\n"
          ]
        }
      ]
    },
    {
      "cell_type": "code",
      "source": [
        "data15_24.head()"
      ],
      "metadata": {
        "id": "ikv3Vdo8-pBi",
        "outputId": "9903e0d6-0077-4eee-91df-5a3fe3b11ac9",
        "colab": {
          "base_uri": "https://localhost:8080/",
          "height": 270
        }
      },
      "execution_count": null,
      "outputs": [
        {
          "output_type": "execute_result",
          "data": {
            "text/plain": [
              "           id data_inversa dia_semana   horario  uf   br     km  \\\n",
              "0  83298209.0   2015-01-01     Quinta  00:05:00  RJ  101  327.0   \n",
              "1  83298218.0   2015-01-01     Quinta  01:20:00  MS  163  434.4   \n",
              "2  83298220.0   2015-01-01     Quinta  01:45:00  RJ   40   64.0   \n",
              "3  83298221.0   2015-01-01     Quinta  02:50:00  SC  101  356.1   \n",
              "4  83298222.0   2015-01-01     Quinta  02:50:00  RS  101   25.9   \n",
              "\n",
              "         municipio    causa_acidente            tipo_acidente  ...  \\\n",
              "0          NITEROI            Outras         Colisão traseira  ...   \n",
              "1     CAMPO GRANDE  Animais na Pista           Saída de Pista  ...   \n",
              "2       PETROPOLIS            Outras  Colisão com objeto fixo  ...   \n",
              "3           SANGAO  Falta de atenção           Saída de Pista  ...   \n",
              "4  TRES CACHOEIRAS  Falta de atenção           Saída de Pista  ...   \n",
              "\n",
              "  feridos_graves ilesos ignorados feridos veiculos latitude longitude  \\\n",
              "0              0      2         0       0        2        0         0   \n",
              "1              0      1         0       1        1        0         0   \n",
              "2              0      2         0       0        2        0         0   \n",
              "3              0      0         0       4        1        0         0   \n",
              "4              0      1         0       0        1        0         0   \n",
              "\n",
              "   regional  delegacia  uop  \n",
              "0         0          0    0  \n",
              "1         0          0    0  \n",
              "2         0          0    0  \n",
              "3         0          0    0  \n",
              "4         0          0    0  \n",
              "\n",
              "[5 rows x 30 columns]"
            ],
            "text/html": [
              "\n",
              "  <div id=\"df-8d449e5f-e623-46be-bb51-de8123e54108\" class=\"colab-df-container\">\n",
              "    <div>\n",
              "<style scoped>\n",
              "    .dataframe tbody tr th:only-of-type {\n",
              "        vertical-align: middle;\n",
              "    }\n",
              "\n",
              "    .dataframe tbody tr th {\n",
              "        vertical-align: top;\n",
              "    }\n",
              "\n",
              "    .dataframe thead th {\n",
              "        text-align: right;\n",
              "    }\n",
              "</style>\n",
              "<table border=\"1\" class=\"dataframe\">\n",
              "  <thead>\n",
              "    <tr style=\"text-align: right;\">\n",
              "      <th></th>\n",
              "      <th>id</th>\n",
              "      <th>data_inversa</th>\n",
              "      <th>dia_semana</th>\n",
              "      <th>horario</th>\n",
              "      <th>uf</th>\n",
              "      <th>br</th>\n",
              "      <th>km</th>\n",
              "      <th>municipio</th>\n",
              "      <th>causa_acidente</th>\n",
              "      <th>tipo_acidente</th>\n",
              "      <th>...</th>\n",
              "      <th>feridos_graves</th>\n",
              "      <th>ilesos</th>\n",
              "      <th>ignorados</th>\n",
              "      <th>feridos</th>\n",
              "      <th>veiculos</th>\n",
              "      <th>latitude</th>\n",
              "      <th>longitude</th>\n",
              "      <th>regional</th>\n",
              "      <th>delegacia</th>\n",
              "      <th>uop</th>\n",
              "    </tr>\n",
              "  </thead>\n",
              "  <tbody>\n",
              "    <tr>\n",
              "      <th>0</th>\n",
              "      <td>83298209.0</td>\n",
              "      <td>2015-01-01</td>\n",
              "      <td>Quinta</td>\n",
              "      <td>00:05:00</td>\n",
              "      <td>RJ</td>\n",
              "      <td>101</td>\n",
              "      <td>327.0</td>\n",
              "      <td>NITEROI</td>\n",
              "      <td>Outras</td>\n",
              "      <td>Colisão traseira</td>\n",
              "      <td>...</td>\n",
              "      <td>0</td>\n",
              "      <td>2</td>\n",
              "      <td>0</td>\n",
              "      <td>0</td>\n",
              "      <td>2</td>\n",
              "      <td>0</td>\n",
              "      <td>0</td>\n",
              "      <td>0</td>\n",
              "      <td>0</td>\n",
              "      <td>0</td>\n",
              "    </tr>\n",
              "    <tr>\n",
              "      <th>1</th>\n",
              "      <td>83298218.0</td>\n",
              "      <td>2015-01-01</td>\n",
              "      <td>Quinta</td>\n",
              "      <td>01:20:00</td>\n",
              "      <td>MS</td>\n",
              "      <td>163</td>\n",
              "      <td>434.4</td>\n",
              "      <td>CAMPO GRANDE</td>\n",
              "      <td>Animais na Pista</td>\n",
              "      <td>Saída de Pista</td>\n",
              "      <td>...</td>\n",
              "      <td>0</td>\n",
              "      <td>1</td>\n",
              "      <td>0</td>\n",
              "      <td>1</td>\n",
              "      <td>1</td>\n",
              "      <td>0</td>\n",
              "      <td>0</td>\n",
              "      <td>0</td>\n",
              "      <td>0</td>\n",
              "      <td>0</td>\n",
              "    </tr>\n",
              "    <tr>\n",
              "      <th>2</th>\n",
              "      <td>83298220.0</td>\n",
              "      <td>2015-01-01</td>\n",
              "      <td>Quinta</td>\n",
              "      <td>01:45:00</td>\n",
              "      <td>RJ</td>\n",
              "      <td>40</td>\n",
              "      <td>64.0</td>\n",
              "      <td>PETROPOLIS</td>\n",
              "      <td>Outras</td>\n",
              "      <td>Colisão com objeto fixo</td>\n",
              "      <td>...</td>\n",
              "      <td>0</td>\n",
              "      <td>2</td>\n",
              "      <td>0</td>\n",
              "      <td>0</td>\n",
              "      <td>2</td>\n",
              "      <td>0</td>\n",
              "      <td>0</td>\n",
              "      <td>0</td>\n",
              "      <td>0</td>\n",
              "      <td>0</td>\n",
              "    </tr>\n",
              "    <tr>\n",
              "      <th>3</th>\n",
              "      <td>83298221.0</td>\n",
              "      <td>2015-01-01</td>\n",
              "      <td>Quinta</td>\n",
              "      <td>02:50:00</td>\n",
              "      <td>SC</td>\n",
              "      <td>101</td>\n",
              "      <td>356.1</td>\n",
              "      <td>SANGAO</td>\n",
              "      <td>Falta de atenção</td>\n",
              "      <td>Saída de Pista</td>\n",
              "      <td>...</td>\n",
              "      <td>0</td>\n",
              "      <td>0</td>\n",
              "      <td>0</td>\n",
              "      <td>4</td>\n",
              "      <td>1</td>\n",
              "      <td>0</td>\n",
              "      <td>0</td>\n",
              "      <td>0</td>\n",
              "      <td>0</td>\n",
              "      <td>0</td>\n",
              "    </tr>\n",
              "    <tr>\n",
              "      <th>4</th>\n",
              "      <td>83298222.0</td>\n",
              "      <td>2015-01-01</td>\n",
              "      <td>Quinta</td>\n",
              "      <td>02:50:00</td>\n",
              "      <td>RS</td>\n",
              "      <td>101</td>\n",
              "      <td>25.9</td>\n",
              "      <td>TRES CACHOEIRAS</td>\n",
              "      <td>Falta de atenção</td>\n",
              "      <td>Saída de Pista</td>\n",
              "      <td>...</td>\n",
              "      <td>0</td>\n",
              "      <td>1</td>\n",
              "      <td>0</td>\n",
              "      <td>0</td>\n",
              "      <td>1</td>\n",
              "      <td>0</td>\n",
              "      <td>0</td>\n",
              "      <td>0</td>\n",
              "      <td>0</td>\n",
              "      <td>0</td>\n",
              "    </tr>\n",
              "  </tbody>\n",
              "</table>\n",
              "<p>5 rows × 30 columns</p>\n",
              "</div>\n",
              "    <div class=\"colab-df-buttons\">\n",
              "\n",
              "  <div class=\"colab-df-container\">\n",
              "    <button class=\"colab-df-convert\" onclick=\"convertToInteractive('df-8d449e5f-e623-46be-bb51-de8123e54108')\"\n",
              "            title=\"Convert this dataframe to an interactive table.\"\n",
              "            style=\"display:none;\">\n",
              "\n",
              "  <svg xmlns=\"http://www.w3.org/2000/svg\" height=\"24px\" viewBox=\"0 -960 960 960\">\n",
              "    <path d=\"M120-120v-720h720v720H120Zm60-500h600v-160H180v160Zm220 220h160v-160H400v160Zm0 220h160v-160H400v160ZM180-400h160v-160H180v160Zm440 0h160v-160H620v160ZM180-180h160v-160H180v160Zm440 0h160v-160H620v160Z\"/>\n",
              "  </svg>\n",
              "    </button>\n",
              "\n",
              "  <style>\n",
              "    .colab-df-container {\n",
              "      display:flex;\n",
              "      gap: 12px;\n",
              "    }\n",
              "\n",
              "    .colab-df-convert {\n",
              "      background-color: #E8F0FE;\n",
              "      border: none;\n",
              "      border-radius: 50%;\n",
              "      cursor: pointer;\n",
              "      display: none;\n",
              "      fill: #1967D2;\n",
              "      height: 32px;\n",
              "      padding: 0 0 0 0;\n",
              "      width: 32px;\n",
              "    }\n",
              "\n",
              "    .colab-df-convert:hover {\n",
              "      background-color: #E2EBFA;\n",
              "      box-shadow: 0px 1px 2px rgba(60, 64, 67, 0.3), 0px 1px 3px 1px rgba(60, 64, 67, 0.15);\n",
              "      fill: #174EA6;\n",
              "    }\n",
              "\n",
              "    .colab-df-buttons div {\n",
              "      margin-bottom: 4px;\n",
              "    }\n",
              "\n",
              "    [theme=dark] .colab-df-convert {\n",
              "      background-color: #3B4455;\n",
              "      fill: #D2E3FC;\n",
              "    }\n",
              "\n",
              "    [theme=dark] .colab-df-convert:hover {\n",
              "      background-color: #434B5C;\n",
              "      box-shadow: 0px 1px 3px 1px rgba(0, 0, 0, 0.15);\n",
              "      filter: drop-shadow(0px 1px 2px rgba(0, 0, 0, 0.3));\n",
              "      fill: #FFFFFF;\n",
              "    }\n",
              "  </style>\n",
              "\n",
              "    <script>\n",
              "      const buttonEl =\n",
              "        document.querySelector('#df-8d449e5f-e623-46be-bb51-de8123e54108 button.colab-df-convert');\n",
              "      buttonEl.style.display =\n",
              "        google.colab.kernel.accessAllowed ? 'block' : 'none';\n",
              "\n",
              "      async function convertToInteractive(key) {\n",
              "        const element = document.querySelector('#df-8d449e5f-e623-46be-bb51-de8123e54108');\n",
              "        const dataTable =\n",
              "          await google.colab.kernel.invokeFunction('convertToInteractive',\n",
              "                                                    [key], {});\n",
              "        if (!dataTable) return;\n",
              "\n",
              "        const docLinkHtml = 'Like what you see? Visit the ' +\n",
              "          '<a target=\"_blank\" href=https://colab.research.google.com/notebooks/data_table.ipynb>data table notebook</a>'\n",
              "          + ' to learn more about interactive tables.';\n",
              "        element.innerHTML = '';\n",
              "        dataTable['output_type'] = 'display_data';\n",
              "        await google.colab.output.renderOutput(dataTable, element);\n",
              "        const docLink = document.createElement('div');\n",
              "        docLink.innerHTML = docLinkHtml;\n",
              "        element.appendChild(docLink);\n",
              "      }\n",
              "    </script>\n",
              "  </div>\n",
              "\n",
              "\n",
              "    <div id=\"df-e6b5ab08-595f-4d4c-bd42-9562d0ac55b9\">\n",
              "      <button class=\"colab-df-quickchart\" onclick=\"quickchart('df-e6b5ab08-595f-4d4c-bd42-9562d0ac55b9')\"\n",
              "                title=\"Suggest charts\"\n",
              "                style=\"display:none;\">\n",
              "\n",
              "<svg xmlns=\"http://www.w3.org/2000/svg\" height=\"24px\"viewBox=\"0 0 24 24\"\n",
              "     width=\"24px\">\n",
              "    <g>\n",
              "        <path d=\"M19 3H5c-1.1 0-2 .9-2 2v14c0 1.1.9 2 2 2h14c1.1 0 2-.9 2-2V5c0-1.1-.9-2-2-2zM9 17H7v-7h2v7zm4 0h-2V7h2v10zm4 0h-2v-4h2v4z\"/>\n",
              "    </g>\n",
              "</svg>\n",
              "      </button>\n",
              "\n",
              "<style>\n",
              "  .colab-df-quickchart {\n",
              "      --bg-color: #E8F0FE;\n",
              "      --fill-color: #1967D2;\n",
              "      --hover-bg-color: #E2EBFA;\n",
              "      --hover-fill-color: #174EA6;\n",
              "      --disabled-fill-color: #AAA;\n",
              "      --disabled-bg-color: #DDD;\n",
              "  }\n",
              "\n",
              "  [theme=dark] .colab-df-quickchart {\n",
              "      --bg-color: #3B4455;\n",
              "      --fill-color: #D2E3FC;\n",
              "      --hover-bg-color: #434B5C;\n",
              "      --hover-fill-color: #FFFFFF;\n",
              "      --disabled-bg-color: #3B4455;\n",
              "      --disabled-fill-color: #666;\n",
              "  }\n",
              "\n",
              "  .colab-df-quickchart {\n",
              "    background-color: var(--bg-color);\n",
              "    border: none;\n",
              "    border-radius: 50%;\n",
              "    cursor: pointer;\n",
              "    display: none;\n",
              "    fill: var(--fill-color);\n",
              "    height: 32px;\n",
              "    padding: 0;\n",
              "    width: 32px;\n",
              "  }\n",
              "\n",
              "  .colab-df-quickchart:hover {\n",
              "    background-color: var(--hover-bg-color);\n",
              "    box-shadow: 0 1px 2px rgba(60, 64, 67, 0.3), 0 1px 3px 1px rgba(60, 64, 67, 0.15);\n",
              "    fill: var(--button-hover-fill-color);\n",
              "  }\n",
              "\n",
              "  .colab-df-quickchart-complete:disabled,\n",
              "  .colab-df-quickchart-complete:disabled:hover {\n",
              "    background-color: var(--disabled-bg-color);\n",
              "    fill: var(--disabled-fill-color);\n",
              "    box-shadow: none;\n",
              "  }\n",
              "\n",
              "  .colab-df-spinner {\n",
              "    border: 2px solid var(--fill-color);\n",
              "    border-color: transparent;\n",
              "    border-bottom-color: var(--fill-color);\n",
              "    animation:\n",
              "      spin 1s steps(1) infinite;\n",
              "  }\n",
              "\n",
              "  @keyframes spin {\n",
              "    0% {\n",
              "      border-color: transparent;\n",
              "      border-bottom-color: var(--fill-color);\n",
              "      border-left-color: var(--fill-color);\n",
              "    }\n",
              "    20% {\n",
              "      border-color: transparent;\n",
              "      border-left-color: var(--fill-color);\n",
              "      border-top-color: var(--fill-color);\n",
              "    }\n",
              "    30% {\n",
              "      border-color: transparent;\n",
              "      border-left-color: var(--fill-color);\n",
              "      border-top-color: var(--fill-color);\n",
              "      border-right-color: var(--fill-color);\n",
              "    }\n",
              "    40% {\n",
              "      border-color: transparent;\n",
              "      border-right-color: var(--fill-color);\n",
              "      border-top-color: var(--fill-color);\n",
              "    }\n",
              "    60% {\n",
              "      border-color: transparent;\n",
              "      border-right-color: var(--fill-color);\n",
              "    }\n",
              "    80% {\n",
              "      border-color: transparent;\n",
              "      border-right-color: var(--fill-color);\n",
              "      border-bottom-color: var(--fill-color);\n",
              "    }\n",
              "    90% {\n",
              "      border-color: transparent;\n",
              "      border-bottom-color: var(--fill-color);\n",
              "    }\n",
              "  }\n",
              "</style>\n",
              "\n",
              "      <script>\n",
              "        async function quickchart(key) {\n",
              "          const quickchartButtonEl =\n",
              "            document.querySelector('#' + key + ' button');\n",
              "          quickchartButtonEl.disabled = true;  // To prevent multiple clicks.\n",
              "          quickchartButtonEl.classList.add('colab-df-spinner');\n",
              "          try {\n",
              "            const charts = await google.colab.kernel.invokeFunction(\n",
              "                'suggestCharts', [key], {});\n",
              "          } catch (error) {\n",
              "            console.error('Error during call to suggestCharts:', error);\n",
              "          }\n",
              "          quickchartButtonEl.classList.remove('colab-df-spinner');\n",
              "          quickchartButtonEl.classList.add('colab-df-quickchart-complete');\n",
              "        }\n",
              "        (() => {\n",
              "          let quickchartButtonEl =\n",
              "            document.querySelector('#df-e6b5ab08-595f-4d4c-bd42-9562d0ac55b9 button');\n",
              "          quickchartButtonEl.style.display =\n",
              "            google.colab.kernel.accessAllowed ? 'block' : 'none';\n",
              "        })();\n",
              "      </script>\n",
              "    </div>\n",
              "\n",
              "    </div>\n",
              "  </div>\n"
            ],
            "application/vnd.google.colaboratory.intrinsic+json": {
              "type": "dataframe",
              "variable_name": "data15_24"
            }
          },
          "metadata": {},
          "execution_count": 41
        }
      ]
    }
  ]
}